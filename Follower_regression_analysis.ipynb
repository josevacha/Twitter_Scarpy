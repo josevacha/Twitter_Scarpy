{
 "cells": [
  {
   "cell_type": "markdown",
   "metadata": {},
   "source": [
    "**Question: is it possible to predict the number of followers [followers_count] that a person will have on Twitter, based on their other attributes? **\n",
    "\n",
    "A user's attributes include:\n",
    "- When the account was created [created_at]: probably super important. The longer someone has been a user for, likely the more followers they have\n",
    "- Whether or not they have a profile image [default_profile_image]. I'd expect users with a profile image to have more followers\n",
    "- Description: Could length of description make a difference?\n",
    "- favourites_count: More active users could favourite more, and also have more followers?\n",
    "- following: Could potentially be a positive correlation between followers and following, although not necessarily; some very popular accounts are following very few people\n",
    "- lang: I'd expect users using english/spanish to have more followers\n",
    "- statuses_count: people with more statuses are more active users, and probably have more followers\n",
    "- verified: More likely to be a real human\n",
    "- withheld_in_countries: users with witheld profile possibly have fewer followers?"
   ]
  },
  {
   "cell_type": "markdown",
   "metadata": {},
   "source": [
    "How many data points do I need for my model? Some sources state at least 20 observations per vairable as a general rule of thunb. How many user profiles can I pull from Twitter in a reasonable amount of time?\n"
   ]
  },
  {
   "cell_type": "markdown",
   "metadata": {},
   "source": [
    "Should I get my users from a particular source, or can I just pull them randomly from Twitter?"
   ]
  },
  {
   "cell_type": "code",
   "execution_count": 372,
   "metadata": {
    "collapsed": false
   },
   "outputs": [],
   "source": [
    "import twitterscrape\n",
    "import tweepy\n",
    "import time\n",
    "import pandas as pd\n",
    "import seaborn as sns\n",
    "import matplotlib.pyplot as plt\n",
    "import powerlaw\n",
    "import math\n",
    "import numpy as np\n",
    "from __future__ import division\n",
    "from sklearn.cross_validation import train_test_split\n",
    "%matplotlib inline"
   ]
  },
  {
   "cell_type": "code",
   "execution_count": 165,
   "metadata": {
    "collapsed": false
   },
   "outputs": [],
   "source": [
    "api = twitterscrape.authenticate()"
   ]
  },
  {
   "cell_type": "code",
   "execution_count": 166,
   "metadata": {
    "collapsed": true
   },
   "outputs": [],
   "source": [
    "#This gets all of the ids for the followers of the RC\n",
    "ids = []\n",
    "for page in tweepy.Cursor(api.followers_ids, screen_name=\"recursecenter\").pages():\n",
    "    ids.extend(page)\n",
    "    time.sleep(60)"
   ]
  },
  {
   "cell_type": "code",
   "execution_count": 167,
   "metadata": {
    "collapsed": false
   },
   "outputs": [
    {
     "data": {
      "text/plain": [
       "17548"
      ]
     },
     "execution_count": 167,
     "metadata": {},
     "output_type": "execute_result"
    }
   ],
   "source": [
    "len(ids)\n"
   ]
  },
  {
   "cell_type": "markdown",
   "metadata": {},
   "source": [
    "Twitter places [limits](https://dev.twitter.com/rest/public/rate-limits) on how many times you can ping them per 15 minutes. [GET Users/Lookup](https://dev.twitter.com/rest/reference/get/users/lookup) returns up to 100 users per request. I am allowed to send 180 Lookup requests per 15 minutes = 18000 users per 15 minutes. So I should be able to do them all no problem in one 15 minute block, no token bucket required."
   ]
  },
  {
   "cell_type": "code",
   "execution_count": 168,
   "metadata": {
    "collapsed": false
   },
   "outputs": [
    {
     "data": {
      "text/plain": [
       "100408795"
      ]
     },
     "execution_count": 168,
     "metadata": {},
     "output_type": "execute_result"
    }
   ],
   "source": [
    "ids[0]"
   ]
  },
  {
   "cell_type": "code",
   "execution_count": 169,
   "metadata": {
    "collapsed": true
   },
   "outputs": [],
   "source": [
    "def get_users(ids):\n",
    "    last_index = 0\n",
    "    results = []\n",
    "    for i in range(100,len(ids),100):\n",
    "        result = api.lookup_users(ids[last_index:i])\n",
    "        \n",
    "        last_index = i\n",
    "        results.append(result)\n",
    "    return results"
   ]
  },
  {
   "cell_type": "code",
   "execution_count": 170,
   "metadata": {
    "collapsed": false
   },
   "outputs": [],
   "source": [
    "RC_followers = get_users(ids)"
   ]
  },
  {
   "cell_type": "code",
   "execution_count": 171,
   "metadata": {
    "collapsed": false
   },
   "outputs": [
    {
     "data": {
      "text/plain": [
       "175"
      ]
     },
     "execution_count": 171,
     "metadata": {},
     "output_type": "execute_result"
    }
   ],
   "source": [
    "len(RC_followers)"
   ]
  },
  {
   "cell_type": "code",
   "execution_count": 180,
   "metadata": {
    "collapsed": true
   },
   "outputs": [],
   "source": [
    "RC_followers_concat =  [inner \n",
    "                        for outer in RC_followers \n",
    "                        for inner in outer]"
   ]
  },
  {
   "cell_type": "code",
   "execution_count": 209,
   "metadata": {
    "collapsed": false
   },
   "outputs": [
    {
     "data": {
      "text/plain": [
       "u'Dave Bryand'"
      ]
     },
     "execution_count": 209,
     "metadata": {},
     "output_type": "execute_result"
    }
   ],
   "source": [
    "#this is a way of getting attributes from \n",
    "getattr(RC_followers_concat[0],'name')"
   ]
  },
  {
   "cell_type": "code",
   "execution_count": 211,
   "metadata": {
    "collapsed": true
   },
   "outputs": [],
   "source": [
    "columns_list = [\"name\", \"created_at\",\"default_profile_image\", \"description\", \"favourites_count\", \"followers_count\", \"friends_count\", \"lang\", \"listed_count\", \"protected\", \"statuses_count\", \"time_zone\", \"verified\", \"withheld_in_countries\"]"
   ]
  },
  {
   "cell_type": "code",
   "execution_count": 214,
   "metadata": {
    "collapsed": false
   },
   "outputs": [],
   "source": [
    "#create a dictionary using columns where every key contains a list\n",
    "user_dict = {column:[getattr(user,column) if hasattr(user,column) else None for user in RC_followers_concat] for column in columns_list}\n",
    "RC_followers_df = pd.DataFrame(user_dict)"
   ]
  },
  {
   "cell_type": "code",
   "execution_count": 223,
   "metadata": {
    "collapsed": false
   },
   "outputs": [
    {
     "data": {
      "text/html": [
       "<div>\n",
       "<table border=\"1\" class=\"dataframe\">\n",
       "  <thead>\n",
       "    <tr style=\"text-align: right;\">\n",
       "      <th></th>\n",
       "      <th>created_at</th>\n",
       "      <th>default_profile_image</th>\n",
       "      <th>description</th>\n",
       "      <th>favourites_count</th>\n",
       "      <th>followers_count</th>\n",
       "      <th>friends_count</th>\n",
       "      <th>lang</th>\n",
       "      <th>listed_count</th>\n",
       "      <th>name</th>\n",
       "      <th>protected</th>\n",
       "      <th>statuses_count</th>\n",
       "      <th>time_zone</th>\n",
       "      <th>verified</th>\n",
       "      <th>withheld_in_countries</th>\n",
       "    </tr>\n",
       "  </thead>\n",
       "  <tbody>\n",
       "    <tr>\n",
       "      <th>0</th>\n",
       "      <td>2009-12-30 04:56:18</td>\n",
       "      <td>False</td>\n",
       "      <td>WorkLife Co-founder. On fire about building th...</td>\n",
       "      <td>261</td>\n",
       "      <td>291</td>\n",
       "      <td>704</td>\n",
       "      <td>en</td>\n",
       "      <td>14</td>\n",
       "      <td>Dave Bryand</td>\n",
       "      <td>False</td>\n",
       "      <td>532</td>\n",
       "      <td>Pacific Time (US &amp; Canada)</td>\n",
       "      <td>False</td>\n",
       "      <td>None</td>\n",
       "    </tr>\n",
       "    <tr>\n",
       "      <th>1</th>\n",
       "      <td>2011-01-23 23:30:47</td>\n",
       "      <td>False</td>\n",
       "      <td>unpopular dolt</td>\n",
       "      <td>9</td>\n",
       "      <td>24</td>\n",
       "      <td>131</td>\n",
       "      <td>en</td>\n",
       "      <td>1</td>\n",
       "      <td>Nimrod Dancer</td>\n",
       "      <td>False</td>\n",
       "      <td>758</td>\n",
       "      <td>Eastern Time (US &amp; Canada)</td>\n",
       "      <td>False</td>\n",
       "      <td>None</td>\n",
       "    </tr>\n",
       "    <tr>\n",
       "      <th>2</th>\n",
       "      <td>2015-06-30 15:05:36</td>\n",
       "      <td>False</td>\n",
       "      <td>an ardent machine learner. #machinelearning #n...</td>\n",
       "      <td>51</td>\n",
       "      <td>116</td>\n",
       "      <td>223</td>\n",
       "      <td>en</td>\n",
       "      <td>10</td>\n",
       "      <td>Mallikarjun Yelameli</td>\n",
       "      <td>False</td>\n",
       "      <td>60</td>\n",
       "      <td>None</td>\n",
       "      <td>False</td>\n",
       "      <td>None</td>\n",
       "    </tr>\n",
       "    <tr>\n",
       "      <th>3</th>\n",
       "      <td>2011-12-13 00:22:03</td>\n",
       "      <td>False</td>\n",
       "      <td>farm-to-table data science</td>\n",
       "      <td>213</td>\n",
       "      <td>25</td>\n",
       "      <td>407</td>\n",
       "      <td>en</td>\n",
       "      <td>2</td>\n",
       "      <td>jawn</td>\n",
       "      <td>False</td>\n",
       "      <td>89</td>\n",
       "      <td>Pacific Time (US &amp; Canada)</td>\n",
       "      <td>False</td>\n",
       "      <td>None</td>\n",
       "    </tr>\n",
       "    <tr>\n",
       "      <th>4</th>\n",
       "      <td>2011-12-11 05:01:42</td>\n",
       "      <td>False</td>\n",
       "      <td></td>\n",
       "      <td>120</td>\n",
       "      <td>51</td>\n",
       "      <td>202</td>\n",
       "      <td>en</td>\n",
       "      <td>3</td>\n",
       "      <td>Stewart Stewart</td>\n",
       "      <td>False</td>\n",
       "      <td>35</td>\n",
       "      <td>Arizona</td>\n",
       "      <td>False</td>\n",
       "      <td>None</td>\n",
       "    </tr>\n",
       "  </tbody>\n",
       "</table>\n",
       "</div>"
      ],
      "text/plain": [
       "           created_at default_profile_image  \\\n",
       "0 2009-12-30 04:56:18                 False   \n",
       "1 2011-01-23 23:30:47                 False   \n",
       "2 2015-06-30 15:05:36                 False   \n",
       "3 2011-12-13 00:22:03                 False   \n",
       "4 2011-12-11 05:01:42                 False   \n",
       "\n",
       "                                         description  favourites_count  \\\n",
       "0  WorkLife Co-founder. On fire about building th...               261   \n",
       "1                                     unpopular dolt                 9   \n",
       "2  an ardent machine learner. #machinelearning #n...                51   \n",
       "3                         farm-to-table data science               213   \n",
       "4                                                                  120   \n",
       "\n",
       "   followers_count  friends_count lang  listed_count                  name  \\\n",
       "0              291            704   en            14           Dave Bryand   \n",
       "1               24            131   en             1         Nimrod Dancer   \n",
       "2              116            223   en            10  Mallikarjun Yelameli   \n",
       "3               25            407   en             2                  jawn   \n",
       "4               51            202   en             3       Stewart Stewart   \n",
       "\n",
       "  protected  statuses_count                   time_zone verified  \\\n",
       "0     False             532  Pacific Time (US & Canada)    False   \n",
       "1     False             758  Eastern Time (US & Canada)    False   \n",
       "2     False              60                        None    False   \n",
       "3     False              89  Pacific Time (US & Canada)    False   \n",
       "4     False              35                     Arizona    False   \n",
       "\n",
       "  withheld_in_countries  \n",
       "0                  None  \n",
       "1                  None  \n",
       "2                  None  \n",
       "3                  None  \n",
       "4                  None  "
      ]
     },
     "execution_count": 223,
     "metadata": {},
     "output_type": "execute_result"
    }
   ],
   "source": [
    "RC_followers_df.head()"
   ]
  },
  {
   "cell_type": "markdown",
   "metadata": {},
   "source": [
    "##Analysis"
   ]
  },
  {
   "cell_type": "markdown",
   "metadata": {},
   "source": [
    "I first plotted a histogram to see the distribution of the number of followers for each user"
   ]
  },
  {
   "cell_type": "code",
   "execution_count": 323,
   "metadata": {
    "collapsed": false
   },
   "outputs": [
    {
     "data": {
      "text/plain": [
       "<matplotlib.axes._subplots.AxesSubplot at 0x18c19e710>"
      ]
     },
     "execution_count": 323,
     "metadata": {},
     "output_type": "execute_result"
    },
    {
     "data": {
      "image/png": "[encoded data removed]",
      "text/plain": [
       "<matplotlib.figure.Figure at 0x18c062b90>"
      ]
     },
     "metadata": {},
     "output_type": "display_data"
    }
   ],
   "source": [
    "sns.distplot(RC_followers_df.followers_count, kde = False)"
   ]
  },
  {
   "cell_type": "markdown",
   "metadata": {},
   "source": [
    "I suspect that this is showing a heavy-tailed distribution; there are lots and lots of people with few followers, and a small number of people with may followers; hence, the strange looking plot"
   ]
  },
  {
   "cell_type": "code",
   "execution_count": 232,
   "metadata": {
    "collapsed": false
   },
   "outputs": [
    {
     "data": {
      "text/html": [
       "<div>\n",
       "<table border=\"1\" class=\"dataframe\">\n",
       "  <thead>\n",
       "    <tr style=\"text-align: right;\">\n",
       "      <th></th>\n",
       "      <th>created_at</th>\n",
       "      <th>default_profile_image</th>\n",
       "      <th>description</th>\n",
       "      <th>favourites_count</th>\n",
       "      <th>followers_count</th>\n",
       "      <th>friends_count</th>\n",
       "      <th>lang</th>\n",
       "      <th>listed_count</th>\n",
       "      <th>name</th>\n",
       "      <th>protected</th>\n",
       "      <th>statuses_count</th>\n",
       "      <th>time_zone</th>\n",
       "      <th>verified</th>\n",
       "      <th>withheld_in_countries</th>\n",
       "    </tr>\n",
       "  </thead>\n",
       "  <tbody>\n",
       "    <tr>\n",
       "      <th>12994</th>\n",
       "      <td>2008-07-31 06:04:28</td>\n",
       "      <td>False</td>\n",
       "      <td>Trying to Find People Online? Try #PeopleSearc...</td>\n",
       "      <td>6536</td>\n",
       "      <td>1437440</td>\n",
       "      <td>55896</td>\n",
       "      <td>en</td>\n",
       "      <td>473</td>\n",
       "      <td>PeopleSearches.com</td>\n",
       "      <td>False</td>\n",
       "      <td>45529</td>\n",
       "      <td>Pacific Time (US &amp; Canada)</td>\n",
       "      <td>False</td>\n",
       "      <td>None</td>\n",
       "    </tr>\n",
       "  </tbody>\n",
       "</table>\n",
       "</div>"
      ],
      "text/plain": [
       "               created_at default_profile_image  \\\n",
       "12994 2008-07-31 06:04:28                 False   \n",
       "\n",
       "                                             description  favourites_count  \\\n",
       "12994  Trying to Find People Online? Try #PeopleSearc...              6536   \n",
       "\n",
       "       followers_count  friends_count lang  listed_count                name  \\\n",
       "12994          1437440          55896   en           473  PeopleSearches.com   \n",
       "\n",
       "      protected  statuses_count                   time_zone verified  \\\n",
       "12994     False           45529  Pacific Time (US & Canada)    False   \n",
       "\n",
       "      withheld_in_countries  \n",
       "12994                  None  "
      ]
     },
     "execution_count": 232,
     "metadata": {},
     "output_type": "execute_result"
    }
   ],
   "source": [
    "RC_followers_df[RC_followers_df.followers_count == RC_followers_df.followers_count.max()]"
   ]
  },
  {
   "cell_type": "markdown",
   "metadata": {},
   "source": [
    "The user with the most followers has 1.4 million followers! A website that specialises in finding people online"
   ]
  },
  {
   "cell_type": "code",
   "execution_count": 408,
   "metadata": {
    "collapsed": false
   },
   "outputs": [
    {
     "data": {
      "text/plain": [
       "171"
      ]
     },
     "execution_count": 408,
     "metadata": {},
     "output_type": "execute_result"
    }
   ],
   "source": [
    "len(RC_followers_df[RC_followers_df.followers_count>10000])"
   ]
  },
  {
   "cell_type": "markdown",
   "metadata": {},
   "source": [
    "There are 171 users with >10000 followers"
   ]
  },
  {
   "cell_type": "code",
   "execution_count": 413,
   "metadata": {
    "collapsed": false
   },
   "outputs": [
    {
     "data": {
      "text/plain": [
       "<matplotlib.axes._subplots.AxesSubplot at 0x193c253d0>"
      ]
     },
     "execution_count": 413,
     "metadata": {},
     "output_type": "execute_result"
    },
    {
     "data": {
      "image/png": "[encoded data removed]",
      "text/plain": [
       "<matplotlib.figure.Figure at 0x18fab4c90>"
      ]
     },
     "metadata": {},
     "output_type": "display_data"
    }
   ],
   "source": [
    "#Does it make a difference if I drop that really high value?\n",
    "RC_followers_df_cleaned = RC_followers_df.drop(12994)\n",
    "sns.distplot(RC_followers_df_cleaned.followers_count, kde = False)"
   ]
  },
  {
   "cell_type": "code",
   "execution_count": 412,
   "metadata": {
    "collapsed": false
   },
   "outputs": [
    {
     "data": {
      "text/plain": [
       "<matplotlib.axes._subplots.AxesSubplot at 0x18f9a9f90>"
      ]
     },
     "execution_count": 412,
     "metadata": {},
     "output_type": "execute_result"
    },
    {
     "data": {
      "image/png": "[encoded data removed]",
      "text/plain": [
       "<matplotlib.figure.Figure at 0x18afb9310>"
      ]
     },
     "metadata": {},
     "output_type": "display_data"
    }
   ],
   "source": [
    "#get rid of people with less than 10,000 followers\n",
    "sns.distplot(RC_followers_df[RC_followers_df.followers_count<10000].friends_count, kde = False)"
   ]
  },
  {
   "cell_type": "code",
   "execution_count": 263,
   "metadata": {
    "collapsed": false
   },
   "outputs": [
    {
     "data": {
      "text/plain": [
       "<matplotlib.axes._subplots.AxesSubplot at 0x18a821d90>"
      ]
     },
     "execution_count": 263,
     "metadata": {},
     "output_type": "execute_result"
    },
    {
     "data": {
      "image/png": "[encoded data removed]",
      "text/plain": [
       "<matplotlib.figure.Figure at 0x18827c150>"
      ]
     },
     "metadata": {},
     "output_type": "display_data"
    }
   ],
   "source": [
    "#Less than 5000 followers\n",
    "sns.distplot(RC_followers_df.followers_count[RC_followers_df.followers_count<5000], kde = False)"
   ]
  },
  {
   "cell_type": "code",
   "execution_count": 264,
   "metadata": {
    "collapsed": false
   },
   "outputs": [
    {
     "data": {
      "text/plain": [
       "<matplotlib.axes._subplots.AxesSubplot at 0x1882a4f90>"
      ]
     },
     "execution_count": 264,
     "metadata": {},
     "output_type": "execute_result"
    },
    {
     "data": {
      "image/png": "[encoded data removed]",
      "text/plain": [
       "<matplotlib.figure.Figure at 0x189224150>"
      ]
     },
     "metadata": {},
     "output_type": "display_data"
    }
   ],
   "source": [
    "#Less than 1000 followers\n",
    "sns.distplot(RC_followers_df.followers_count[RC_followers_df.followers_count<1000], kde = False)"
   ]
  },
  {
   "cell_type": "code",
   "execution_count": 265,
   "metadata": {
    "collapsed": false
   },
   "outputs": [
    {
     "data": {
      "text/plain": [
       "17450052"
      ]
     },
     "execution_count": 265,
     "metadata": {},
     "output_type": "execute_result"
    }
   ],
   "source": [
    "sum(RC_followers_df.followers_count)"
   ]
  },
  {
   "cell_type": "markdown",
   "metadata": {},
   "source": [
    "##Modelling heavy-tailed distributions\n",
    "Use the powerlaw package to model the distribution"
   ]
  },
  {
   "cell_type": "code",
   "execution_count": 283,
   "metadata": {
    "collapsed": false
   },
   "outputs": [
    {
     "data": {
      "text/plain": [
       "0.04222857142857143"
      ]
     },
     "execution_count": 283,
     "metadata": {},
     "output_type": "execute_result"
    }
   ],
   "source": [
    "len(RC_followers_df[RC_followers_df.followers_count==0])/len(RC_followers_df)\n",
    "#only 4% users have no followers"
   ]
  },
  {
   "cell_type": "code",
   "execution_count": 349,
   "metadata": {
    "collapsed": true
   },
   "outputs": [],
   "source": [
    "#Get rid of these 0 values\n",
    "RC_followers_df_nozero = RC_followers_df[RC_followers_df.followers_count!=0]"
   ]
  },
  {
   "cell_type": "code",
   "execution_count": 351,
   "metadata": {
    "collapsed": false
   },
   "outputs": [
    {
     "name": "stderr",
     "output_type": "stream",
     "text": [
      "Calculating best minimal value for power law fit\n"
     ]
    }
   ],
   "source": [
    "#fit the distribution using the powerlaw package\n",
    "fit = powerlaw.Fit(RC_followers_df_nozero.followers_count)"
   ]
  },
  {
   "cell_type": "code",
   "execution_count": 312,
   "metadata": {
    "collapsed": false
   },
   "outputs": [
    {
     "data": {
      "text/plain": [
       "1.8786777775094308"
      ]
     },
     "execution_count": 312,
     "metadata": {},
     "output_type": "execute_result"
    }
   ],
   "source": [
    "#alpha is the The parameter of the power law. This is the slope on a log-log plot.\n",
    "fit.power_law.alpha"
   ]
  },
  {
   "cell_type": "code",
   "execution_count": 321,
   "metadata": {
    "collapsed": false
   },
   "outputs": [
    {
     "data": {
      "text/plain": [
       "1196.0"
      ]
     },
     "execution_count": 321,
     "metadata": {},
     "output_type": "execute_result"
    }
   ],
   "source": [
    "#xmin shows the minimum value at which the power law starts\n",
    "fit.power_law.xmin"
   ]
  },
  {
   "cell_type": "code",
   "execution_count": 292,
   "metadata": {
    "collapsed": false
   },
   "outputs": [
    {
     "data": {
      "text/plain": [
       "<matplotlib.axes._subplots.AxesSubplot at 0x18aec7d10>"
      ]
     },
     "execution_count": 292,
     "metadata": {},
     "output_type": "execute_result"
    },
    {
     "data": {
      "image/png": "[encoded data removed]",
      "text/plain": [
       "<matplotlib.figure.Figure at 0x18ae9b490>"
      ]
     },
     "metadata": {},
     "output_type": "display_data"
    }
   ],
   "source": [
    "#probability density function for the data. Note the kink at around 10^2, around the point of xmin\n",
    "powerlaw.plot_pdf(RC_followers_df_nozero.followers_count)"
   ]
  },
  {
   "cell_type": "code",
   "execution_count": 414,
   "metadata": {
    "collapsed": false
   },
   "outputs": [
    {
     "name": "stdout",
     "output_type": "stream",
     "text": [
      "6.58898688778 4.42837889919e-11\n"
     ]
    }
   ],
   "source": [
    "#Comparison of which is the better fit: power law or exponential. Power law is better fit\n",
    "R, p = fit.distribution_compare(\"power_law\",\"exponential\", normalized_ratio=True)\n",
    "print R, p"
   ]
  },
  {
   "cell_type": "code",
   "execution_count": 301,
   "metadata": {
    "collapsed": false
   },
   "outputs": [
    {
     "name": "stdout",
     "output_type": "stream",
     "text": [
      "-1153.57161293 3.87510028386e-11\n"
     ]
    }
   ],
   "source": [
    "#Exponential vs. lognormal. Lognormal is better\n",
    "R, p = fit.distribution_compare(\"exponential\",\"lognormal\")\n",
    "print R, p"
   ]
  },
  {
   "cell_type": "code",
   "execution_count": 299,
   "metadata": {
    "collapsed": false
   },
   "outputs": [
    {
     "name": "stdout",
     "output_type": "stream",
     "text": [
      "-0.274291308296 0.667339520204\n"
     ]
    }
   ],
   "source": [
    "#Powerlaw vs lognormal. No significant difference\n",
    "R, p = fit.distribution_compare(\"power_law\", \"lognormal\")\n",
    "print R, p"
   ]
  },
  {
   "cell_type": "markdown",
   "metadata": {},
   "source": [
    "There isn't a significant difference between the likelihood of power law and lognormal distributions. Lognormal is a simpler distribution and so I assume this is more likely"
   ]
  },
  {
   "cell_type": "code",
   "execution_count": 337,
   "metadata": {
    "collapsed": false
   },
   "outputs": [
    {
     "data": {
      "text/plain": [
       "<matplotlib.axes._subplots.AxesSubplot at 0x190f96610>"
      ]
     },
     "execution_count": 337,
     "metadata": {},
     "output_type": "execute_result"
    },
    {
     "data": {
      "image/png": "[encoded data removed]",
      "text/plain": [
       "<matplotlib.figure.Figure at 0x190f9fdd0>"
      ]
     },
     "metadata": {},
     "output_type": "display_data"
    }
   ],
   "source": [
    "#Log transformed distribution looks like this. \n",
    "sns.distplot([math.log(count) for count in RC_followers_df.friends_count if count>0], bins =50)"
   ]
  },
  {
   "cell_type": "markdown",
   "metadata": {},
   "source": [
    "##Feature engineering"
   ]
  },
  {
   "cell_type": "code",
   "execution_count": 384,
   "metadata": {
    "collapsed": false
   },
   "outputs": [
    {
     "name": "stderr",
     "output_type": "stream",
     "text": [
      "/Applications/anaconda/lib/python2.7/site-packages/IPython/kernel/__main__.py:1: SettingWithCopyWarning: \n",
      "A value is trying to be set on a copy of a slice from a DataFrame.\n",
      "Try using .loc[row_indexer,col_indexer] = value instead\n",
      "\n",
      "See the the caveats in the documentation: http://pandas.pydata.org/pandas-docs/stable/indexing.html#indexing-view-versus-copy\n",
      "  if __name__ == '__main__':\n"
     ]
    }
   ],
   "source": [
    "RC_followers_df_nozero['Length_of_membership'] = pd.to_datetime('2015-12-03 18:12:46') - RC_followers_df_nozero['created_at']\n"
   ]
  },
  {
   "cell_type": "code",
   "execution_count": 402,
   "metadata": {
    "collapsed": false
   },
   "outputs": [],
   "source": [
    "current_date = pd.to_datetime('2015-12-03 18:12:46')"
   ]
  },
  {
   "cell_type": "code",
   "execution_count": 403,
   "metadata": {
    "collapsed": false
   },
   "outputs": [
    {
     "name": "stderr",
     "output_type": "stream",
     "text": [
      "/Applications/anaconda/lib/python2.7/site-packages/IPython/kernel/__main__.py:1: SettingWithCopyWarning: \n",
      "A value is trying to be set on a copy of a slice from a DataFrame.\n",
      "Try using .loc[row_indexer,col_indexer] = value instead\n",
      "\n",
      "See the the caveats in the documentation: http://pandas.pydata.org/pandas-docs/stable/indexing.html#indexing-view-versus-copy\n",
      "  if __name__ == '__main__':\n"
     ]
    }
   ],
   "source": [
    "#Add in column that quantifies length of membership in days\n",
    "RC_followers_df_nozero['Length_of_membership'] = RC_followers_df_nozero['created_at'].apply(lambda x:(current_date-x).days)"
   ]
  },
  {
   "cell_type": "code",
   "execution_count": 405,
   "metadata": {
    "collapsed": false
   },
   "outputs": [],
   "source": [
    "#split dataset up into train and test sets for cross-validation\n",
    "mask = np.random.rand(len(RC_followers_df_nozero))<0.8\n",
    "RC_train = RC_followers_df_nozero[mask]\n",
    "RC_test = RC_followers_df_nozero[~mask]"
   ]
  },
  {
   "cell_type": "code",
   "execution_count": 344,
   "metadata": {
    "collapsed": false
   },
   "outputs": [],
   "source": [
    "#Save to csv\n",
    "RC_followers_df.to_csv(\"RC_followers_df.csv\", encoding = 'utf-8')\n",
    "RC_train.to_csv(\"RC_train.csv\", encoding = 'utf-8')\n",
    "RC_test.to_csv(\"RC_test.csv\", encoding = 'utf-8')"
   ]
  }
 ],
 "metadata": {
  "kernelspec": {
   "display_name": "Python 2",
   "language": "python",
   "name": "python2"
  },
  "language_info": {
   "codemirror_mode": {
    "name": "ipython",
    "version": 2
   },
   "file_extension": ".py",
   "mimetype": "text/x-python",
   "name": "python",
   "nbconvert_exporter": "python",
   "pygments_lexer": "ipython2",
   "version": "2.7.10"
  }
 },
 "nbformat": 4,
 "nbformat_minor": 0
}
